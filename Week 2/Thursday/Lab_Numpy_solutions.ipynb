{
 "cells": [
  {
   "cell_type": "code",
   "execution_count": 6,
   "id": "765926e5",
   "metadata": {},
   "outputs": [],
   "source": [
    "#### 1. Import the numpy package under the name `np` (★☆☆)\n",
    "#hint: import … as`\n",
    "import numpy as np"
   ]
  },
  {
   "cell_type": "code",
   "execution_count": 7,
   "id": "af5c313e",
   "metadata": {},
   "outputs": [
    {
     "data": {
      "text/plain": [
       "array([0., 0., 0., 0., 0., 0., 0., 0., 0., 0.])"
      ]
     },
     "execution_count": 7,
     "metadata": {},
     "output_type": "execute_result"
    }
   ],
   "source": [
    "#### 2. Create a null vector of size 10 (★☆☆)\n",
    "#`hint: np.zeros`\n",
    "np.zeros(10)"
   ]
  },
  {
   "cell_type": "code",
   "execution_count": 13,
   "id": "04b3fd21",
   "metadata": {},
   "outputs": [
    {
     "data": {
      "text/plain": [
       "array([0., 0., 0., 0., 1., 0., 0., 0., 0., 0.])"
      ]
     },
     "execution_count": 13,
     "metadata": {},
     "output_type": "execute_result"
    }
   ],
   "source": [
    "#### 3. Create a null vector of size 10 but the fifth value which is 1 (★☆☆)\n",
    "#`hint: array[4]`\n",
    "a = np.zeros(10)\n",
    "a[4] = 1\n",
    "a"
   ]
  },
  {
   "cell_type": "code",
   "execution_count": 18,
   "id": "17465226",
   "metadata": {},
   "outputs": [
    {
     "data": {
      "text/plain": [
       "array([10, 11, 12, 13, 14, 15, 16, 17, 18, 19, 20, 21, 22, 23, 24, 25, 26,\n",
       "       27, 28, 29, 30, 31, 32, 33, 34, 35, 36, 37, 38, 39, 40, 41, 42, 43,\n",
       "       44, 45, 46, 47, 48, 49])"
      ]
     },
     "execution_count": 18,
     "metadata": {},
     "output_type": "execute_result"
    }
   ],
   "source": [
    "#### 4. Create a vector with values ranging from 10 to 49 (★☆☆)\n",
    "#`hint: arange`\n",
    "a = np.arange(10,50)\n",
    "a"
   ]
  },
  {
   "cell_type": "code",
   "execution_count": 20,
   "id": "1c44477a",
   "metadata": {},
   "outputs": [
    {
     "data": {
      "text/plain": [
       "array([[0, 1, 2],\n",
       "       [3, 4, 5],\n",
       "       [6, 7, 8]])"
      ]
     },
     "execution_count": 20,
     "metadata": {},
     "output_type": "execute_result"
    }
   ],
   "source": [
    "#### 5. Create a 3x3 matrix with values ranging from 0 to 8 (★☆☆)\n",
    "#`hint: reshape`\n",
    "a = np.arange(0,9)\n",
    "a.reshape(3,3)"
   ]
  },
  {
   "cell_type": "code",
   "execution_count": 26,
   "id": "6e328ac8",
   "metadata": {},
   "outputs": [
    {
     "data": {
      "text/plain": [
       "(array([0, 1, 4], dtype=int64),)"
      ]
     },
     "execution_count": 26,
     "metadata": {},
     "output_type": "execute_result"
    }
   ],
   "source": [
    "#### 6. Find indices of non-zero elements from [1,2,0,0,4,0] (★☆☆)\n",
    "#`hint: np.nonzero`\n",
    "a = np.array([1,2,0,0,4,0])\n",
    "a = np.nonzero(a)\n",
    "a"
   ]
  },
  {
   "cell_type": "code",
   "execution_count": 27,
   "id": "5c48e2f8",
   "metadata": {},
   "outputs": [
    {
     "data": {
      "text/plain": [
       "array([[1., 0., 0.],\n",
       "       [0., 1., 0.],\n",
       "       [0., 0., 1.]])"
      ]
     },
     "execution_count": 27,
     "metadata": {},
     "output_type": "execute_result"
    }
   ],
   "source": [
    "#### 7. Create a 3x3 identity matrix (★☆☆)\n",
    "#`hint: np.eye`\n",
    "a = np.eye(3,3)\n",
    "a"
   ]
  },
  {
   "cell_type": "code",
   "execution_count": 31,
   "id": "3a9fa93f",
   "metadata": {},
   "outputs": [
    {
     "data": {
      "text/plain": [
       "array([[[0.45636641, 0.46499116, 0.85907082],\n",
       "        [0.30400316, 0.0128191 , 0.7124914 ],\n",
       "        [0.84153154, 0.55321139, 0.15146736]],\n",
       "\n",
       "       [[0.31112805, 0.30230691, 0.09467163],\n",
       "        [0.9375317 , 0.55884426, 0.5168489 ],\n",
       "        [0.14797106, 0.67334635, 0.88535495]],\n",
       "\n",
       "       [[0.84594931, 0.04263012, 0.98947407],\n",
       "        [0.20060368, 0.29297393, 0.2412709 ],\n",
       "        [0.38929767, 0.865778  , 0.67936995]]])"
      ]
     },
     "execution_count": 31,
     "metadata": {},
     "output_type": "execute_result"
    }
   ],
   "source": [
    "#### 8. Create a 3x3x3 array with random values (★☆☆)\n",
    "#`hint: np.random.random`\n",
    "a = np.random.random((3,3,3))\n",
    "a"
   ]
  },
  {
   "cell_type": "code",
   "execution_count": 38,
   "id": "d5ac0df5",
   "metadata": {},
   "outputs": [
    {
     "name": "stdout",
     "output_type": "stream",
     "text": [
      "[[0.88408992 0.06211278 0.20703413 0.47174651 0.62734316 0.59206014\n",
      "  0.69536315 0.14770109 0.66268589 0.74727573]\n",
      " [0.35248929 0.21962555 0.83203369 0.81722392 0.12256609 0.95238247\n",
      "  0.98900229 0.9758577  0.23002201 0.57499161]\n",
      " [0.06682284 0.18738809 0.54795771 0.42362073 0.54139115 0.27024193\n",
      "  0.21648149 0.48221482 0.22315999 0.01458261]\n",
      " [0.0632903  0.91232911 0.2080445  0.4073774  0.90980821 0.61718956\n",
      "  0.76015057 0.03226944 0.12976337 0.37741377]\n",
      " [0.61214761 0.26962444 0.73779806 0.49042466 0.53117246 0.78560885\n",
      "  0.98882629 0.18935255 0.2419456  0.49435163]\n",
      " [0.39070198 0.31616219 0.74262166 0.66645105 0.2062869  0.06850633\n",
      "  0.93236585 0.93129447 0.54845032 0.28109264]\n",
      " [0.63089197 0.56341182 0.23910327 0.72581997 0.86387199 0.63371477\n",
      "  0.14441538 0.10831319 0.39167132 0.0444215 ]\n",
      " [0.56867156 0.55530988 0.25758168 0.8602247  0.14581727 0.67602477\n",
      "  0.33437341 0.91265944 0.48568611 0.24495757]\n",
      " [0.3054652  0.69622612 0.31890086 0.11336078 0.61465599 0.24469916\n",
      "  0.06022423 0.03799134 0.60529505 0.88437856]\n",
      " [0.44233821 0.75467142 0.46054942 0.74218763 0.85561215 0.79532064\n",
      "  0.64780294 0.8457857  0.87941679 0.63400186]]\n",
      "0.014582613412492673\n",
      "0.9890022915038564\n"
     ]
    }
   ],
   "source": [
    "#### 9. Create a 10x10 array with random values and find the minimum and maximum values (★☆☆)\n",
    "#`hint: min, max`\n",
    "a = np.random.random((10,10))\n",
    "print(a)\n",
    "print(a.min())\n",
    "print(a.max())"
   ]
  },
  {
   "cell_type": "code",
   "execution_count": 40,
   "id": "790ece60",
   "metadata": {},
   "outputs": [
    {
     "name": "stdout",
     "output_type": "stream",
     "text": [
      "[0.53958635 0.43527029 0.91020028 0.74982902 0.14909046 0.34307989\n",
      " 0.50015666 0.72139129 0.00931049 0.54869769 0.37372213 0.99817614\n",
      " 0.56429456 0.95665467 0.57512228 0.41077925 0.72355158 0.55770487\n",
      " 0.23948577 0.99937904 0.38171292 0.6679964  0.44863525 0.2848031\n",
      " 0.13989189 0.23025114 0.10132097 0.76828982 0.3347666  0.72782183]\n",
      "0.513032422088474\n"
     ]
    }
   ],
   "source": [
    "#### 10. Create a random vector of size 30 and find the mean value (★☆☆)\n",
    "#`hint: mean`\n",
    "a = np.random.random((30))\n",
    "print(a)\n",
    "print(a.mean())"
   ]
  },
  {
   "cell_type": "code",
   "execution_count": 53,
   "id": "43cdc2d9",
   "metadata": {},
   "outputs": [
    {
     "data": {
      "text/plain": [
       "array([[0, 0, 0, 0, 0],\n",
       "       [1, 0, 0, 0, 0],\n",
       "       [0, 2, 0, 0, 0],\n",
       "       [0, 0, 3, 0, 0],\n",
       "       [0, 0, 0, 4, 0]])"
      ]
     },
     "execution_count": 53,
     "metadata": {},
     "output_type": "execute_result"
    }
   ],
   "source": [
    "#### 11. Create a 5x5 matrix with values 1,2,3,4 just below the diagonal (★☆☆)\n",
    "#`hint: np.diag`\n",
    "a = np.diag((1,2,3,4),k=-1)\n",
    "a"
   ]
  },
  {
   "cell_type": "code",
   "execution_count": 62,
   "id": "8c466ee2",
   "metadata": {},
   "outputs": [
    {
     "name": "stdout",
     "output_type": "stream",
     "text": [
      "[[6 3 4 8 5]\n",
      " [2 9 6 3 8]\n",
      " [8 5 6 2 0]\n",
      " [8 4 1 0 5]\n",
      " [7 6 4 0 4]]\n"
     ]
    },
    {
     "data": {
      "text/plain": [
       "array([[0.66666667, 0.33333333, 0.44444444, 0.88888889, 0.55555556],\n",
       "       [0.22222222, 1.        , 0.66666667, 0.33333333, 0.88888889],\n",
       "       [0.88888889, 0.55555556, 0.66666667, 0.22222222, 0.        ],\n",
       "       [0.88888889, 0.44444444, 0.11111111, 0.        , 0.55555556],\n",
       "       [0.77777778, 0.66666667, 0.44444444, 0.        , 0.44444444]])"
      ]
     },
     "execution_count": 62,
     "metadata": {},
     "output_type": "execute_result"
    }
   ],
   "source": [
    "#### 12. Normalize a 5x5 random matrix (★☆☆)\n",
    "#`hint: (x -mean)/std`\n",
    "a = np.random.randint(10, size=(5,5))\n",
    "print(a)\n",
    "a = (a - a.min())/ (a.max() - a.min())\n",
    "a\n"
   ]
  },
  {
   "cell_type": "code",
   "execution_count": 64,
   "id": "8c60d53e",
   "metadata": {},
   "outputs": [
    {
     "name": "stdout",
     "output_type": "stream",
     "text": [
      "[[7 6 2 4 0]\n",
      " [7 9 4 4 5]\n",
      " [2 0 4 8 9]\n",
      " [7 3 1 0 5]\n",
      " [0 0 7 1 1]]\n"
     ]
    },
    {
     "data": {
      "text/plain": [
       "array([[  0.78784263,   0.71738076,   1.86037733,   0.15826646,\n",
       "          1.28469055],\n",
       "       [  0.78784263,   0.85843288,   0.15826646,   0.15826646,\n",
       "          0.57684084],\n",
       "       [  1.86037733,   1.28469055,   0.15826646,   0.83018135,\n",
       "          0.85843288],\n",
       "       [  0.78784263, -76.68901225,   1.42781969,   1.28469055,\n",
       "          0.57684084],\n",
       "       [  1.28469055,   1.28469055,   0.78784263,   1.42781969,\n",
       "          1.42781969]])"
      ]
     },
     "execution_count": 64,
     "metadata": {},
     "output_type": "execute_result"
    }
   ],
   "source": [
    "#### 12. Normalize a 5x5 random matrix (★☆☆)\n",
    "#`hint: (x -mean)/std`\n",
    "a = np.random.randint(10, size=(5,5))\n",
    "print(a)\n",
    "a = (a - a.mean())/ (a - a.std())\n",
    "a"
   ]
  },
  {
   "cell_type": "code",
   "execution_count": 69,
   "id": "1396f054",
   "metadata": {},
   "outputs": [
    {
     "name": "stdout",
     "output_type": "stream",
     "text": [
      "[1 2 3 4 5 6]\n",
      "[2 2 2 5 5 5]\n"
     ]
    },
    {
     "data": {
      "text/plain": [
       "array([2, 5])"
      ]
     },
     "execution_count": 69,
     "metadata": {},
     "output_type": "execute_result"
    }
   ],
   "source": [
    "#### 13. How to find common values between two arrays? (★☆☆)\n",
    "#`hint: np.intersect1d`\n",
    "a = np.array([1,2,3,4,5,6])\n",
    "b = np.array([2,2,2,5,5,5])\n",
    "print(a)\n",
    "print(b)\n",
    "c = np.intersect1d(a,b)\n",
    "c"
   ]
  },
  {
   "cell_type": "code",
   "execution_count": 78,
   "id": "d1bcba6a",
   "metadata": {},
   "outputs": [
    {
     "name": "stdout",
     "output_type": "stream",
     "text": [
      "[9 2 9 1 1 8 8 6 4 8]\n"
     ]
    },
    {
     "data": {
      "text/plain": [
       "array([1, 1, 2, 4, 6, 8, 8, 8, 9, 9])"
      ]
     },
     "execution_count": 78,
     "metadata": {},
     "output_type": "execute_result"
    }
   ],
   "source": [
    "#### 14. Create a random vector of size 10 and sort it (★★☆)\n",
    "#`hint: sort`\n",
    "a = np.random.randint(10,size=10)\n",
    "print(a)\n",
    "a.sort()\n",
    "a\n"
   ]
  },
  {
   "cell_type": "code",
   "execution_count": 99,
   "id": "3eaed44c",
   "metadata": {},
   "outputs": [
    {
     "name": "stdout",
     "output_type": "stream",
     "text": [
      "[64 28 65 64 41  9 56 84 55 14]\n",
      "7\n",
      "[64 28 65 64 41  9 56  0 55 14]\n"
     ]
    }
   ],
   "source": [
    "#### 15. Create random vector of size 10 and replace the maximum value by 0 (★★☆)\n",
    "#`hint: argmax`\n",
    "a = np.random.randint(100,size=10)\n",
    "print(a)\n",
    "print(np.argmax(a))\n",
    "x = np.argmax(a)\n",
    "a[x] = 0\n",
    "print(a)\n",
    "#a.max()"
   ]
  },
  {
   "cell_type": "code",
   "execution_count": 110,
   "id": "49e64a29",
   "metadata": {},
   "outputs": [
    {
     "name": "stdout",
     "output_type": "stream",
     "text": [
      "[[3 4 9 6]\n",
      " [7 6 0 1]\n",
      " [4 8 0 0]\n",
      " [9 4 1 5]]\n",
      "[[5.5 ]\n",
      " [3.5 ]\n",
      " [3.  ]\n",
      " [4.75]]\n",
      "[[-2.5  -1.5   3.5   0.5 ]\n",
      " [ 3.5   2.5  -3.5  -2.5 ]\n",
      " [ 1.    5.   -3.   -3.  ]\n",
      " [ 4.25 -0.75 -3.75  0.25]]\n"
     ]
    }
   ],
   "source": [
    "#### 16. Subtract the mean of each row of a matrix (★★☆)\n",
    "#`hint: mean(axis=,keepdims=)`\n",
    "a = np.random.randint(10,size=(4,4))\n",
    "print(a)\n",
    "print(a.mean(axis=1,keepdims=1))\n",
    "x = a.mean(axis=1,keepdims=1)\n",
    "c = a - x\n",
    "print(c)"
   ]
  },
  {
   "cell_type": "code",
   "execution_count": 113,
   "id": "c4a7e32e",
   "metadata": {},
   "outputs": [
    {
     "name": "stdout",
     "output_type": "stream",
     "text": [
      "[ 112 6966 4138 ... 8168 3133 8703]\n"
     ]
    }
   ],
   "source": [
    "#### 17. How to get the n largest values of an array (★★★)\n",
    "#`Z = np.arange(10000)\n",
    "#np.random.shuffle(Z)\n",
    "#n = 5\n",
    "#hint: np.argsort | np.argpartition`\n",
    "    \n",
    "Z = np.arange(10000)\n",
    "np.random.shuffle(Z)\n"
   ]
  },
  {
   "cell_type": "code",
   "execution_count": null,
   "id": "89266801",
   "metadata": {},
   "outputs": [],
   "source": [
    "#### 18. Create a random 5*3 matrix and replace items that are larger than 4 by their squares ( Example:  6 --> 36) \n",
    "`hint: np.where`"
   ]
  }
 ],
 "metadata": {
  "kernelspec": {
   "display_name": "Python 3 (ipykernel)",
   "language": "python",
   "name": "python3"
  },
  "language_info": {
   "codemirror_mode": {
    "name": "ipython",
    "version": 3
   },
   "file_extension": ".py",
   "mimetype": "text/x-python",
   "name": "python",
   "nbconvert_exporter": "python",
   "pygments_lexer": "ipython3",
   "version": "3.9.13"
  }
 },
 "nbformat": 4,
 "nbformat_minor": 5
}
