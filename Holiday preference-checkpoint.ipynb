{
 "cells": [
  {
   "cell_type": "markdown",
   "id": "88ad34c5",
   "metadata": {},
   "source": [
    "# His holiday preference "
   ]
  },
  {
   "cell_type": "markdown",
   "id": "6c7260ea",
   "metadata": {},
   "source": [
    "# Table of contents\n",
    "1. [Task](#introduction)\n",
    "2. [His Picture](#paragraph1)\n",
    "3. [His favourite location](#paragraph2)\n",
    "\n",
    "## Task <a name=\"introduction\"></a>\n",
    "*In the notebook that I created I will introduce someone and her/his holidays preference with a picture and a link to a youtube video of this holiday preference*\n",
    "\n",
    "## His Picture <a name=\"paragraph1\"></a>\n",
    "*In case you don't know him yet, that's him:*\n",
    "![alt_text](https://th.bing.com/th/id/OIP.ITf45N2qvyPi_7NbxU4tCQHaHa?w=222&h=220&c=7&r=0&o=5&dpr=1.5&pid=1.7)\n",
    "\n",
    "## His favourite location <a name=\"paragraph2\"></a>\n",
    "*His favourite place for holidays is the following location:*\n",
    "![alt_text](https://th.bing.com/th/id/OIP.QHMeKH8LxdwiTZPMmfyhCgHaEK?pid=ImgDet&rs=1)\n",
    "\n",
    "*To get a better understanding of the location, take a look by yourself:*\n",
    "[Bikini Bottom Tour](https://www.youtube.com/watch?v=O9wZJiP2sGg)\n",
    "\n",
    "*This is what he is doing there:*\n",
    "\n",
    "- *he likes to meet his friends here*\n",
    "- *he is grilling burgers in the local restaurant*\n",
    "- *his pet, which is a snail, lives in his house and he likes to go for walks with it*"
   ]
  },
  {
   "cell_type": "code",
   "execution_count": 9,
   "id": "d8fbdba9",
   "metadata": {},
   "outputs": [],
   "source": [
    "def holiday(name):\n",
    "    name = input(\"Please put in his name\")\n",
    "    x = name\n",
    "    return x"
   ]
  },
  {
   "cell_type": "code",
   "execution_count": 10,
   "id": "45828fd2",
   "metadata": {},
   "outputs": [
    {
     "name": "stdout",
     "output_type": "stream",
     "text": [
      "Please put in his nameSpongebob\n"
     ]
    },
    {
     "data": {
      "text/plain": [
       "'Spongebob'"
      ]
     },
     "execution_count": 10,
     "metadata": {},
     "output_type": "execute_result"
    }
   ],
   "source": [
    "holiday('spongebob')"
   ]
  },
  {
   "cell_type": "markdown",
   "id": "9851f06f",
   "metadata": {},
   "source": [
    "The function that I created takes an input from a user and returns the input"
   ]
  },
  {
   "cell_type": "code",
   "execution_count": null,
   "id": "2a2d5e93",
   "metadata": {},
   "outputs": [],
   "source": []
  },
  {
   "cell_type": "code",
   "execution_count": null,
   "id": "82aa606d",
   "metadata": {},
   "outputs": [],
   "source": []
  }
 ],
 "metadata": {
  "kernelspec": {
   "display_name": "Python 3 (ipykernel)",
   "language": "python",
   "name": "python3"
  },
  "language_info": {
   "codemirror_mode": {
    "name": "ipython",
    "version": 3
   },
   "file_extension": ".py",
   "mimetype": "text/x-python",
   "name": "python",
   "nbconvert_exporter": "python",
   "pygments_lexer": "ipython3",
   "version": "3.9.13"
  }
 },
 "nbformat": 4,
 "nbformat_minor": 5
}
